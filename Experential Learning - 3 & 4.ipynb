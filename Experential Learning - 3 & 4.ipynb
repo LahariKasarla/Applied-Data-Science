{
 "cells": [
  {
   "cell_type": "markdown",
   "metadata": {},
   "source": [
    "## Name: Lahari Kasarla\n",
    "## Reg. no: 1700229C203\n",
    "## Sec: CSE-2"
   ]
  },
  {
   "cell_type": "markdown",
   "metadata": {},
   "source": [
    "### TOPIC: SPOTIFY SONGS RECOMMENDER SYSTEM"
   ]
  },
  {
   "cell_type": "markdown",
   "metadata": {},
   "source": [
    "The Spotify Dataset consists of 160k tracks and details about their artists, genres etc. \n",
    "This recommendor system will recommend songs to a new user using content based approaches that uses additional information about users and/or genres. This approach relies highly on user-item interactions.\n",
    "       \n",
    "       As the dataset contains a huge amount of data about user-item interactions and extra features, we will follow the content based approach which gives the recommendations using similarities."
   ]
  },
  {
   "cell_type": "markdown",
   "metadata": {},
   "source": [
    "##### Importing necessary libraries"
   ]
  },
  {
   "cell_type": "code",
   "execution_count": 26,
   "metadata": {},
   "outputs": [],
   "source": [
    "import numpy as np # linear algebra\n",
    "import pandas as pd"
   ]
  },
  {
   "cell_type": "markdown",
   "metadata": {},
   "source": [
    "##### Loading the dataset"
   ]
  },
  {
   "cell_type": "code",
   "execution_count": 27,
   "metadata": {},
   "outputs": [],
   "source": [
    "song_df = pd.read_csv(\"data.csv\")"
   ]
  },
  {
   "cell_type": "markdown",
   "metadata": {},
   "source": [
    "##### Exploring the data"
   ]
  },
  {
   "cell_type": "code",
   "execution_count": 29,
   "metadata": {},
   "outputs": [
    {
     "data": {
      "text/html": [
       "<div>\n",
       "<style scoped>\n",
       "    .dataframe tbody tr th:only-of-type {\n",
       "        vertical-align: middle;\n",
       "    }\n",
       "\n",
       "    .dataframe tbody tr th {\n",
       "        vertical-align: top;\n",
       "    }\n",
       "\n",
       "    .dataframe thead th {\n",
       "        text-align: right;\n",
       "    }\n",
       "</style>\n",
       "<table border=\"1\" class=\"dataframe\">\n",
       "  <thead>\n",
       "    <tr style=\"text-align: right;\">\n",
       "      <th></th>\n",
       "      <th>acousticness</th>\n",
       "      <th>artists</th>\n",
       "      <th>danceability</th>\n",
       "      <th>duration_ms</th>\n",
       "      <th>energy</th>\n",
       "      <th>explicit</th>\n",
       "      <th>id</th>\n",
       "      <th>instrumentalness</th>\n",
       "      <th>key</th>\n",
       "      <th>liveness</th>\n",
       "      <th>loudness</th>\n",
       "      <th>mode</th>\n",
       "      <th>name</th>\n",
       "      <th>popularity</th>\n",
       "      <th>release_date</th>\n",
       "      <th>speechiness</th>\n",
       "      <th>tempo</th>\n",
       "      <th>valence</th>\n",
       "      <th>year</th>\n",
       "    </tr>\n",
       "  </thead>\n",
       "  <tbody>\n",
       "    <tr>\n",
       "      <th>0</th>\n",
       "      <td>0.995</td>\n",
       "      <td>['Carl Woitschach']</td>\n",
       "      <td>0.708</td>\n",
       "      <td>158648</td>\n",
       "      <td>0.1950</td>\n",
       "      <td>0</td>\n",
       "      <td>6KbQ3uYMLKb5jDxLF7wYDD</td>\n",
       "      <td>0.563</td>\n",
       "      <td>10</td>\n",
       "      <td>0.1510</td>\n",
       "      <td>-12.428</td>\n",
       "      <td>1</td>\n",
       "      <td>Singende Bataillone 1. Teil</td>\n",
       "      <td>0</td>\n",
       "      <td>1928</td>\n",
       "      <td>0.0506</td>\n",
       "      <td>118.469</td>\n",
       "      <td>0.7790</td>\n",
       "      <td>1928</td>\n",
       "    </tr>\n",
       "    <tr>\n",
       "      <th>1</th>\n",
       "      <td>0.994</td>\n",
       "      <td>['Robert Schumann', 'Vladimir Horowitz']</td>\n",
       "      <td>0.379</td>\n",
       "      <td>282133</td>\n",
       "      <td>0.0135</td>\n",
       "      <td>0</td>\n",
       "      <td>6KuQTIu1KoTTkLXKrwlLPV</td>\n",
       "      <td>0.901</td>\n",
       "      <td>8</td>\n",
       "      <td>0.0763</td>\n",
       "      <td>-28.454</td>\n",
       "      <td>1</td>\n",
       "      <td>Fantasiestücke, Op. 111: Più tosto lento</td>\n",
       "      <td>0</td>\n",
       "      <td>1928</td>\n",
       "      <td>0.0462</td>\n",
       "      <td>83.972</td>\n",
       "      <td>0.0767</td>\n",
       "      <td>1928</td>\n",
       "    </tr>\n",
       "    <tr>\n",
       "      <th>2</th>\n",
       "      <td>0.604</td>\n",
       "      <td>['Seweryn Goszczyński']</td>\n",
       "      <td>0.749</td>\n",
       "      <td>104300</td>\n",
       "      <td>0.2200</td>\n",
       "      <td>0</td>\n",
       "      <td>6L63VW0PibdM1HDSBoqnoM</td>\n",
       "      <td>0.000</td>\n",
       "      <td>5</td>\n",
       "      <td>0.1190</td>\n",
       "      <td>-19.924</td>\n",
       "      <td>0</td>\n",
       "      <td>Chapter 1.18 - Zamek kaniowski</td>\n",
       "      <td>0</td>\n",
       "      <td>1928</td>\n",
       "      <td>0.9290</td>\n",
       "      <td>107.177</td>\n",
       "      <td>0.8800</td>\n",
       "      <td>1928</td>\n",
       "    </tr>\n",
       "    <tr>\n",
       "      <th>3</th>\n",
       "      <td>0.995</td>\n",
       "      <td>['Francisco Canaro']</td>\n",
       "      <td>0.781</td>\n",
       "      <td>180760</td>\n",
       "      <td>0.1300</td>\n",
       "      <td>0</td>\n",
       "      <td>6M94FkXd15sOAOQYRnWPN8</td>\n",
       "      <td>0.887</td>\n",
       "      <td>1</td>\n",
       "      <td>0.1110</td>\n",
       "      <td>-14.734</td>\n",
       "      <td>0</td>\n",
       "      <td>Bebamos Juntos - Instrumental (Remasterizado)</td>\n",
       "      <td>0</td>\n",
       "      <td>1928-09-25</td>\n",
       "      <td>0.0926</td>\n",
       "      <td>108.003</td>\n",
       "      <td>0.7200</td>\n",
       "      <td>1928</td>\n",
       "    </tr>\n",
       "    <tr>\n",
       "      <th>4</th>\n",
       "      <td>0.990</td>\n",
       "      <td>['Frédéric Chopin', 'Vladimir Horowitz']</td>\n",
       "      <td>0.210</td>\n",
       "      <td>687733</td>\n",
       "      <td>0.2040</td>\n",
       "      <td>0</td>\n",
       "      <td>6N6tiFZ9vLTSOIxkj8qKrd</td>\n",
       "      <td>0.908</td>\n",
       "      <td>11</td>\n",
       "      <td>0.0980</td>\n",
       "      <td>-16.829</td>\n",
       "      <td>1</td>\n",
       "      <td>Polonaise-Fantaisie in A-Flat Major, Op. 61</td>\n",
       "      <td>1</td>\n",
       "      <td>1928</td>\n",
       "      <td>0.0424</td>\n",
       "      <td>62.149</td>\n",
       "      <td>0.0693</td>\n",
       "      <td>1928</td>\n",
       "    </tr>\n",
       "  </tbody>\n",
       "</table>\n",
       "</div>"
      ],
      "text/plain": [
       "   acousticness                                   artists  danceability  \\\n",
       "0         0.995                       ['Carl Woitschach']         0.708   \n",
       "1         0.994  ['Robert Schumann', 'Vladimir Horowitz']         0.379   \n",
       "2         0.604                   ['Seweryn Goszczyński']         0.749   \n",
       "3         0.995                      ['Francisco Canaro']         0.781   \n",
       "4         0.990  ['Frédéric Chopin', 'Vladimir Horowitz']         0.210   \n",
       "\n",
       "   duration_ms  energy  explicit                      id  instrumentalness  \\\n",
       "0       158648  0.1950         0  6KbQ3uYMLKb5jDxLF7wYDD             0.563   \n",
       "1       282133  0.0135         0  6KuQTIu1KoTTkLXKrwlLPV             0.901   \n",
       "2       104300  0.2200         0  6L63VW0PibdM1HDSBoqnoM             0.000   \n",
       "3       180760  0.1300         0  6M94FkXd15sOAOQYRnWPN8             0.887   \n",
       "4       687733  0.2040         0  6N6tiFZ9vLTSOIxkj8qKrd             0.908   \n",
       "\n",
       "   key  liveness  loudness  mode  \\\n",
       "0   10    0.1510   -12.428     1   \n",
       "1    8    0.0763   -28.454     1   \n",
       "2    5    0.1190   -19.924     0   \n",
       "3    1    0.1110   -14.734     0   \n",
       "4   11    0.0980   -16.829     1   \n",
       "\n",
       "                                            name  popularity release_date  \\\n",
       "0                    Singende Bataillone 1. Teil           0         1928   \n",
       "1       Fantasiestücke, Op. 111: Più tosto lento           0         1928   \n",
       "2                 Chapter 1.18 - Zamek kaniowski           0         1928   \n",
       "3  Bebamos Juntos - Instrumental (Remasterizado)           0   1928-09-25   \n",
       "4    Polonaise-Fantaisie in A-Flat Major, Op. 61           1         1928   \n",
       "\n",
       "   speechiness    tempo  valence  year  \n",
       "0       0.0506  118.469   0.7790  1928  \n",
       "1       0.0462   83.972   0.0767  1928  \n",
       "2       0.9290  107.177   0.8800  1928  \n",
       "3       0.0926  108.003   0.7200  1928  \n",
       "4       0.0424   62.149   0.0693  1928  "
      ]
     },
     "execution_count": 29,
     "metadata": {},
     "output_type": "execute_result"
    }
   ],
   "source": [
    "song_df.head()"
   ]
  },
  {
   "cell_type": "code",
   "execution_count": 30,
   "metadata": {},
   "outputs": [
    {
     "data": {
      "text/plain": [
       "(169909, 19)"
      ]
     },
     "execution_count": 30,
     "metadata": {},
     "output_type": "execute_result"
    }
   ],
   "source": [
    "song_df.shape"
   ]
  },
  {
   "cell_type": "code",
   "execution_count": 31,
   "metadata": {},
   "outputs": [
    {
     "data": {
      "text/html": [
       "<div>\n",
       "<style scoped>\n",
       "    .dataframe tbody tr th:only-of-type {\n",
       "        vertical-align: middle;\n",
       "    }\n",
       "\n",
       "    .dataframe tbody tr th {\n",
       "        vertical-align: top;\n",
       "    }\n",
       "\n",
       "    .dataframe thead th {\n",
       "        text-align: right;\n",
       "    }\n",
       "</style>\n",
       "<table border=\"1\" class=\"dataframe\">\n",
       "  <thead>\n",
       "    <tr style=\"text-align: right;\">\n",
       "      <th></th>\n",
       "      <th>acousticness</th>\n",
       "      <th>danceability</th>\n",
       "      <th>duration_ms</th>\n",
       "      <th>energy</th>\n",
       "      <th>explicit</th>\n",
       "      <th>instrumentalness</th>\n",
       "      <th>key</th>\n",
       "      <th>liveness</th>\n",
       "      <th>loudness</th>\n",
       "      <th>mode</th>\n",
       "      <th>popularity</th>\n",
       "      <th>speechiness</th>\n",
       "      <th>tempo</th>\n",
       "      <th>valence</th>\n",
       "      <th>year</th>\n",
       "    </tr>\n",
       "  </thead>\n",
       "  <tbody>\n",
       "    <tr>\n",
       "      <th>count</th>\n",
       "      <td>169909.000000</td>\n",
       "      <td>169909.000000</td>\n",
       "      <td>1.699090e+05</td>\n",
       "      <td>169909.000000</td>\n",
       "      <td>169909.000000</td>\n",
       "      <td>169909.000000</td>\n",
       "      <td>169909.000000</td>\n",
       "      <td>169909.000000</td>\n",
       "      <td>169909.000000</td>\n",
       "      <td>169909.000000</td>\n",
       "      <td>169909.000000</td>\n",
       "      <td>169909.000000</td>\n",
       "      <td>169909.000000</td>\n",
       "      <td>169909.000000</td>\n",
       "      <td>169909.000000</td>\n",
       "    </tr>\n",
       "    <tr>\n",
       "      <th>mean</th>\n",
       "      <td>0.493214</td>\n",
       "      <td>0.538150</td>\n",
       "      <td>2.314062e+05</td>\n",
       "      <td>0.488593</td>\n",
       "      <td>0.084863</td>\n",
       "      <td>0.161937</td>\n",
       "      <td>5.200519</td>\n",
       "      <td>0.206690</td>\n",
       "      <td>-11.370289</td>\n",
       "      <td>0.708556</td>\n",
       "      <td>31.556610</td>\n",
       "      <td>0.094058</td>\n",
       "      <td>116.948017</td>\n",
       "      <td>0.532095</td>\n",
       "      <td>1977.223231</td>\n",
       "    </tr>\n",
       "    <tr>\n",
       "      <th>std</th>\n",
       "      <td>0.376627</td>\n",
       "      <td>0.175346</td>\n",
       "      <td>1.213219e+05</td>\n",
       "      <td>0.267390</td>\n",
       "      <td>0.278679</td>\n",
       "      <td>0.309329</td>\n",
       "      <td>3.515257</td>\n",
       "      <td>0.176796</td>\n",
       "      <td>5.666765</td>\n",
       "      <td>0.454429</td>\n",
       "      <td>21.582614</td>\n",
       "      <td>0.149937</td>\n",
       "      <td>30.726937</td>\n",
       "      <td>0.262408</td>\n",
       "      <td>25.593168</td>\n",
       "    </tr>\n",
       "    <tr>\n",
       "      <th>min</th>\n",
       "      <td>0.000000</td>\n",
       "      <td>0.000000</td>\n",
       "      <td>5.108000e+03</td>\n",
       "      <td>0.000000</td>\n",
       "      <td>0.000000</td>\n",
       "      <td>0.000000</td>\n",
       "      <td>0.000000</td>\n",
       "      <td>0.000000</td>\n",
       "      <td>-60.000000</td>\n",
       "      <td>0.000000</td>\n",
       "      <td>0.000000</td>\n",
       "      <td>0.000000</td>\n",
       "      <td>0.000000</td>\n",
       "      <td>0.000000</td>\n",
       "      <td>1921.000000</td>\n",
       "    </tr>\n",
       "    <tr>\n",
       "      <th>25%</th>\n",
       "      <td>0.094500</td>\n",
       "      <td>0.417000</td>\n",
       "      <td>1.710400e+05</td>\n",
       "      <td>0.263000</td>\n",
       "      <td>0.000000</td>\n",
       "      <td>0.000000</td>\n",
       "      <td>2.000000</td>\n",
       "      <td>0.098400</td>\n",
       "      <td>-14.470000</td>\n",
       "      <td>0.000000</td>\n",
       "      <td>12.000000</td>\n",
       "      <td>0.034900</td>\n",
       "      <td>93.516000</td>\n",
       "      <td>0.322000</td>\n",
       "      <td>1957.000000</td>\n",
       "    </tr>\n",
       "    <tr>\n",
       "      <th>50%</th>\n",
       "      <td>0.492000</td>\n",
       "      <td>0.548000</td>\n",
       "      <td>2.086000e+05</td>\n",
       "      <td>0.481000</td>\n",
       "      <td>0.000000</td>\n",
       "      <td>0.000204</td>\n",
       "      <td>5.000000</td>\n",
       "      <td>0.135000</td>\n",
       "      <td>-10.474000</td>\n",
       "      <td>1.000000</td>\n",
       "      <td>33.000000</td>\n",
       "      <td>0.045000</td>\n",
       "      <td>114.778000</td>\n",
       "      <td>0.544000</td>\n",
       "      <td>1978.000000</td>\n",
       "    </tr>\n",
       "    <tr>\n",
       "      <th>75%</th>\n",
       "      <td>0.888000</td>\n",
       "      <td>0.667000</td>\n",
       "      <td>2.629600e+05</td>\n",
       "      <td>0.710000</td>\n",
       "      <td>0.000000</td>\n",
       "      <td>0.086800</td>\n",
       "      <td>8.000000</td>\n",
       "      <td>0.263000</td>\n",
       "      <td>-7.118000</td>\n",
       "      <td>1.000000</td>\n",
       "      <td>48.000000</td>\n",
       "      <td>0.075400</td>\n",
       "      <td>135.712000</td>\n",
       "      <td>0.749000</td>\n",
       "      <td>1999.000000</td>\n",
       "    </tr>\n",
       "    <tr>\n",
       "      <th>max</th>\n",
       "      <td>0.996000</td>\n",
       "      <td>0.988000</td>\n",
       "      <td>5.403500e+06</td>\n",
       "      <td>1.000000</td>\n",
       "      <td>1.000000</td>\n",
       "      <td>1.000000</td>\n",
       "      <td>11.000000</td>\n",
       "      <td>1.000000</td>\n",
       "      <td>3.855000</td>\n",
       "      <td>1.000000</td>\n",
       "      <td>100.000000</td>\n",
       "      <td>0.969000</td>\n",
       "      <td>244.091000</td>\n",
       "      <td>1.000000</td>\n",
       "      <td>2020.000000</td>\n",
       "    </tr>\n",
       "  </tbody>\n",
       "</table>\n",
       "</div>"
      ],
      "text/plain": [
       "        acousticness   danceability   duration_ms         energy  \\\n",
       "count  169909.000000  169909.000000  1.699090e+05  169909.000000   \n",
       "mean        0.493214       0.538150  2.314062e+05       0.488593   \n",
       "std         0.376627       0.175346  1.213219e+05       0.267390   \n",
       "min         0.000000       0.000000  5.108000e+03       0.000000   \n",
       "25%         0.094500       0.417000  1.710400e+05       0.263000   \n",
       "50%         0.492000       0.548000  2.086000e+05       0.481000   \n",
       "75%         0.888000       0.667000  2.629600e+05       0.710000   \n",
       "max         0.996000       0.988000  5.403500e+06       1.000000   \n",
       "\n",
       "            explicit  instrumentalness            key       liveness  \\\n",
       "count  169909.000000     169909.000000  169909.000000  169909.000000   \n",
       "mean        0.084863          0.161937       5.200519       0.206690   \n",
       "std         0.278679          0.309329       3.515257       0.176796   \n",
       "min         0.000000          0.000000       0.000000       0.000000   \n",
       "25%         0.000000          0.000000       2.000000       0.098400   \n",
       "50%         0.000000          0.000204       5.000000       0.135000   \n",
       "75%         0.000000          0.086800       8.000000       0.263000   \n",
       "max         1.000000          1.000000      11.000000       1.000000   \n",
       "\n",
       "            loudness           mode     popularity    speechiness  \\\n",
       "count  169909.000000  169909.000000  169909.000000  169909.000000   \n",
       "mean      -11.370289       0.708556      31.556610       0.094058   \n",
       "std         5.666765       0.454429      21.582614       0.149937   \n",
       "min       -60.000000       0.000000       0.000000       0.000000   \n",
       "25%       -14.470000       0.000000      12.000000       0.034900   \n",
       "50%       -10.474000       1.000000      33.000000       0.045000   \n",
       "75%        -7.118000       1.000000      48.000000       0.075400   \n",
       "max         3.855000       1.000000     100.000000       0.969000   \n",
       "\n",
       "               tempo        valence           year  \n",
       "count  169909.000000  169909.000000  169909.000000  \n",
       "mean      116.948017       0.532095    1977.223231  \n",
       "std        30.726937       0.262408      25.593168  \n",
       "min         0.000000       0.000000    1921.000000  \n",
       "25%        93.516000       0.322000    1957.000000  \n",
       "50%       114.778000       0.544000    1978.000000  \n",
       "75%       135.712000       0.749000    1999.000000  \n",
       "max       244.091000       1.000000    2020.000000  "
      ]
     },
     "execution_count": 31,
     "metadata": {},
     "output_type": "execute_result"
    }
   ],
   "source": [
    "data_desc = song_df.describe()\n",
    "data_desc"
   ]
  },
  {
   "cell_type": "markdown",
   "metadata": {},
   "source": [
    "##### Making a more filtered dataset with songs of popularity more than 30. "
   ]
  },
  {
   "cell_type": "code",
   "execution_count": 32,
   "metadata": {},
   "outputs": [
    {
     "data": {
      "text/plain": [
       "acousticness        95867\n",
       "artists             95867\n",
       "danceability        95867\n",
       "duration_ms         95867\n",
       "energy              95867\n",
       "explicit            95867\n",
       "id                  95867\n",
       "instrumentalness    95867\n",
       "key                 95867\n",
       "liveness            95867\n",
       "loudness            95867\n",
       "mode                95867\n",
       "name                95867\n",
       "popularity          95867\n",
       "release_date        95867\n",
       "speechiness         95867\n",
       "tempo               95867\n",
       "valence             95867\n",
       "year                95867\n",
       "dtype: int64"
      ]
     },
     "execution_count": 32,
     "metadata": {},
     "output_type": "execute_result"
    }
   ],
   "source": [
    "song_morepop = song_df[song_df.popularity >= 30]\n",
    "song_morepop.count()"
   ]
  },
  {
   "cell_type": "markdown",
   "metadata": {},
   "source": [
    "##### Creating a new dataframe of additional features as we are using the content based approach"
   ]
  },
  {
   "cell_type": "code",
   "execution_count": 33,
   "metadata": {},
   "outputs": [
    {
     "data": {
      "text/html": [
       "<div>\n",
       "<style scoped>\n",
       "    .dataframe tbody tr th:only-of-type {\n",
       "        vertical-align: middle;\n",
       "    }\n",
       "\n",
       "    .dataframe tbody tr th {\n",
       "        vertical-align: top;\n",
       "    }\n",
       "\n",
       "    .dataframe thead th {\n",
       "        text-align: right;\n",
       "    }\n",
       "</style>\n",
       "<table border=\"1\" class=\"dataframe\">\n",
       "  <thead>\n",
       "    <tr style=\"text-align: right;\">\n",
       "      <th></th>\n",
       "      <th>acousticness</th>\n",
       "      <th>danceability</th>\n",
       "      <th>energy</th>\n",
       "      <th>instrumentalness</th>\n",
       "      <th>key</th>\n",
       "      <th>liveness</th>\n",
       "      <th>loudness</th>\n",
       "      <th>speechiness</th>\n",
       "      <th>tempo</th>\n",
       "      <th>valence</th>\n",
       "    </tr>\n",
       "  </thead>\n",
       "  <tbody>\n",
       "    <tr>\n",
       "      <th>2106</th>\n",
       "      <td>0.89200</td>\n",
       "      <td>0.596</td>\n",
       "      <td>0.314</td>\n",
       "      <td>0.000001</td>\n",
       "      <td>9</td>\n",
       "      <td>0.1680</td>\n",
       "      <td>-10.024</td>\n",
       "      <td>0.0290</td>\n",
       "      <td>99.442</td>\n",
       "      <td>0.599</td>\n",
       "    </tr>\n",
       "    <tr>\n",
       "      <th>2186</th>\n",
       "      <td>0.00318</td>\n",
       "      <td>0.390</td>\n",
       "      <td>0.637</td>\n",
       "      <td>0.000129</td>\n",
       "      <td>2</td>\n",
       "      <td>0.4430</td>\n",
       "      <td>-4.498</td>\n",
       "      <td>0.0273</td>\n",
       "      <td>90.328</td>\n",
       "      <td>0.681</td>\n",
       "    </tr>\n",
       "    <tr>\n",
       "      <th>2201</th>\n",
       "      <td>0.55600</td>\n",
       "      <td>0.571</td>\n",
       "      <td>0.751</td>\n",
       "      <td>0.000000</td>\n",
       "      <td>2</td>\n",
       "      <td>0.0646</td>\n",
       "      <td>-9.544</td>\n",
       "      <td>0.0585</td>\n",
       "      <td>91.002</td>\n",
       "      <td>0.966</td>\n",
       "    </tr>\n",
       "    <tr>\n",
       "      <th>2229</th>\n",
       "      <td>0.73900</td>\n",
       "      <td>0.588</td>\n",
       "      <td>0.512</td>\n",
       "      <td>0.000030</td>\n",
       "      <td>4</td>\n",
       "      <td>0.2270</td>\n",
       "      <td>-12.253</td>\n",
       "      <td>0.0302</td>\n",
       "      <td>140.257</td>\n",
       "      <td>0.920</td>\n",
       "    </tr>\n",
       "    <tr>\n",
       "      <th>2318</th>\n",
       "      <td>0.28800</td>\n",
       "      <td>0.540</td>\n",
       "      <td>0.620</td>\n",
       "      <td>0.000000</td>\n",
       "      <td>0</td>\n",
       "      <td>0.1070</td>\n",
       "      <td>-7.430</td>\n",
       "      <td>0.0319</td>\n",
       "      <td>132.174</td>\n",
       "      <td>0.483</td>\n",
       "    </tr>\n",
       "  </tbody>\n",
       "</table>\n",
       "</div>"
      ],
      "text/plain": [
       "      acousticness  danceability  energy  instrumentalness  key  liveness  \\\n",
       "2106       0.89200         0.596   0.314          0.000001    9    0.1680   \n",
       "2186       0.00318         0.390   0.637          0.000129    2    0.4430   \n",
       "2201       0.55600         0.571   0.751          0.000000    2    0.0646   \n",
       "2229       0.73900         0.588   0.512          0.000030    4    0.2270   \n",
       "2318       0.28800         0.540   0.620          0.000000    0    0.1070   \n",
       "\n",
       "      loudness  speechiness    tempo  valence  \n",
       "2106   -10.024       0.0290   99.442    0.599  \n",
       "2186    -4.498       0.0273   90.328    0.681  \n",
       "2201    -9.544       0.0585   91.002    0.966  \n",
       "2229   -12.253       0.0302  140.257    0.920  \n",
       "2318    -7.430       0.0319  132.174    0.483  "
      ]
     },
     "execution_count": 33,
     "metadata": {},
     "output_type": "execute_result"
    }
   ],
   "source": [
    "features = song_morepop.drop([\"id\", \"artists\", \"explicit\",\"mode\", \"popularity\", \"release_date\",  \"year\", \"name\", \"duration_ms\"], axis=1)\n",
    "features.head()"
   ]
  },
  {
   "cell_type": "markdown",
   "metadata": {},
   "source": [
    "##### Creating another dataframe of necessary features"
   ]
  },
  {
   "cell_type": "code",
   "execution_count": 34,
   "metadata": {},
   "outputs": [
    {
     "data": {
      "text/html": [
       "<div>\n",
       "<style scoped>\n",
       "    .dataframe tbody tr th:only-of-type {\n",
       "        vertical-align: middle;\n",
       "    }\n",
       "\n",
       "    .dataframe tbody tr th {\n",
       "        vertical-align: top;\n",
       "    }\n",
       "\n",
       "    .dataframe thead th {\n",
       "        text-align: right;\n",
       "    }\n",
       "</style>\n",
       "<table border=\"1\" class=\"dataframe\">\n",
       "  <thead>\n",
       "    <tr style=\"text-align: right;\">\n",
       "      <th></th>\n",
       "      <th>song_id</th>\n",
       "      <th>name</th>\n",
       "      <th>artists</th>\n",
       "      <th>explicit</th>\n",
       "      <th>mode</th>\n",
       "      <th>popularity</th>\n",
       "      <th>year</th>\n",
       "      <th>duration_ms</th>\n",
       "    </tr>\n",
       "  </thead>\n",
       "  <tbody>\n",
       "    <tr>\n",
       "      <th>2106</th>\n",
       "      <td>67LQpgGMjI0jnXo9lRj07C</td>\n",
       "      <td>A Volta do Boêmio</td>\n",
       "      <td>['Nelson Gonçalves']</td>\n",
       "      <td>0</td>\n",
       "      <td>0</td>\n",
       "      <td>42</td>\n",
       "      <td>1960</td>\n",
       "      <td>185667</td>\n",
       "    </tr>\n",
       "    <tr>\n",
       "      <th>2186</th>\n",
       "      <td>5zUJlRQyzxw09Jv1hDgL5h</td>\n",
       "      <td>Twist à Saint-Tropez</td>\n",
       "      <td>['Les Chats Sauvages', 'Dick Rivers']</td>\n",
       "      <td>0</td>\n",
       "      <td>1</td>\n",
       "      <td>37</td>\n",
       "      <td>1961</td>\n",
       "      <td>104600</td>\n",
       "    </tr>\n",
       "    <tr>\n",
       "      <th>2201</th>\n",
       "      <td>0Cx7w1aXcvsPBdfdND0Pju</td>\n",
       "      <td>Presumida (High Class Baby)</td>\n",
       "      <td>['Los Teen Tops']</td>\n",
       "      <td>0</td>\n",
       "      <td>1</td>\n",
       "      <td>36</td>\n",
       "      <td>1961</td>\n",
       "      <td>126387</td>\n",
       "    </tr>\n",
       "    <tr>\n",
       "      <th>2229</th>\n",
       "      <td>2xdIHrH1a0IuThQTbwpzmc</td>\n",
       "      <td>Popotitos (Bonie Moroni)</td>\n",
       "      <td>['Los Teen Tops']</td>\n",
       "      <td>0</td>\n",
       "      <td>1</td>\n",
       "      <td>35</td>\n",
       "      <td>1961</td>\n",
       "      <td>170800</td>\n",
       "    </tr>\n",
       "    <tr>\n",
       "      <th>2318</th>\n",
       "      <td>5yba7vPDvRGqV1LfhgnuLL</td>\n",
       "      <td>Lessons in Love - 2005 Remaster</td>\n",
       "      <td>['Cliff Richard', 'The Shadows']</td>\n",
       "      <td>0</td>\n",
       "      <td>1</td>\n",
       "      <td>30</td>\n",
       "      <td>1962</td>\n",
       "      <td>168360</td>\n",
       "    </tr>\n",
       "  </tbody>\n",
       "</table>\n",
       "</div>"
      ],
      "text/plain": [
       "                     song_id                             name  \\\n",
       "2106  67LQpgGMjI0jnXo9lRj07C                A Volta do Boêmio   \n",
       "2186  5zUJlRQyzxw09Jv1hDgL5h             Twist à Saint-Tropez   \n",
       "2201  0Cx7w1aXcvsPBdfdND0Pju      Presumida (High Class Baby)   \n",
       "2229  2xdIHrH1a0IuThQTbwpzmc         Popotitos (Bonie Moroni)   \n",
       "2318  5yba7vPDvRGqV1LfhgnuLL  Lessons in Love - 2005 Remaster   \n",
       "\n",
       "                                    artists  explicit  mode  popularity  year  \\\n",
       "2106                   ['Nelson Gonçalves']         0     0          42  1960   \n",
       "2186  ['Les Chats Sauvages', 'Dick Rivers']         0     1          37  1961   \n",
       "2201                      ['Los Teen Tops']         0     1          36  1961   \n",
       "2229                      ['Los Teen Tops']         0     1          35  1961   \n",
       "2318       ['Cliff Richard', 'The Shadows']         0     1          30  1962   \n",
       "\n",
       "      duration_ms  \n",
       "2106       185667  \n",
       "2186       104600  \n",
       "2201       126387  \n",
       "2229       170800  \n",
       "2318       168360  "
      ]
     },
     "execution_count": 34,
     "metadata": {},
     "output_type": "execute_result"
    }
   ],
   "source": [
    "songs = song_morepop[[\"id\", \"name\", \"artists\", \"explicit\",\"mode\", \"popularity\",  \"year\", \"duration_ms\"]]\n",
    "songs = songs.rename({\"id\": \"song_id\"}, axis=\"columns\")\n",
    "songs = songs.astype({'mode':'int32', 'explicit':'int32'})\n",
    "songs.head()"
   ]
  },
  {
   "cell_type": "code",
   "execution_count": 35,
   "metadata": {},
   "outputs": [
    {
     "data": {
      "text/plain": [
       "song_id        95867\n",
       "name           95867\n",
       "artists        95867\n",
       "explicit       95867\n",
       "mode           95867\n",
       "popularity     95867\n",
       "year           95867\n",
       "duration_ms    95867\n",
       "dtype: int64"
      ]
     },
     "execution_count": 35,
     "metadata": {},
     "output_type": "execute_result"
    }
   ],
   "source": [
    "songs.count()"
   ]
  },
  {
   "cell_type": "markdown",
   "metadata": {},
   "source": [
    "### Similarity Checking"
   ]
  },
  {
   "cell_type": "markdown",
   "metadata": {},
   "source": [
    "Using Cosine similarity, Euclidean distance, Isomap, PCA"
   ]
  },
  {
   "cell_type": "code",
   "execution_count": 66,
   "metadata": {},
   "outputs": [],
   "source": [
    "from sklearn.metrics.pairwise import cosine_distances\n",
    "from sklearn.metrics.pairwise import cosine_similarity\n",
    "from sklearn.preprocessing import MinMaxScaler"
   ]
  },
  {
   "cell_type": "code",
   "execution_count": 67,
   "metadata": {},
   "outputs": [],
   "source": [
    "from sklearn.metrics.pairwise import euclidean_distances\n",
    "from sklearn.manifold import Isomap\n",
    "from sklearn.decomposition import PCA\n",
    "from sklearn.preprocessing import minmax_scale\n"
   ]
  },
  {
   "cell_type": "markdown",
   "metadata": {},
   "source": [
    "Scaling the additional features using MinMax Scaler."
   ]
  },
  {
   "cell_type": "code",
   "execution_count": 68,
   "metadata": {},
   "outputs": [],
   "source": [
    "feature_vals = features.values\n",
    "feature_vals = minmax_scale(feature_vals)"
   ]
  },
  {
   "cell_type": "markdown",
   "metadata": {},
   "source": [
    "Making a dataframe of a sample set of additional features - size 5000"
   ]
  },
  {
   "cell_type": "code",
   "execution_count": 69,
   "metadata": {},
   "outputs": [],
   "source": [
    "sample_size = 5000\n",
    "np.random.seed(13437375)\n",
    "sample_ids = np.random.choice(feature_vals.shape[0], sample_size, replace=False)\n",
    "feature_samples = feature_vals[sample_ids, :]"
   ]
  },
  {
   "cell_type": "code",
   "execution_count": 70,
   "metadata": {},
   "outputs": [],
   "source": [
    "scaled_features = pd.DataFrame(feature_vals, columns=features.columns)"
   ]
  },
  {
   "cell_type": "code",
   "execution_count": 71,
   "metadata": {},
   "outputs": [],
   "source": [
    "songs_temp = songs.reset_index()"
   ]
  },
  {
   "cell_type": "markdown",
   "metadata": {},
   "source": [
    " IsoMap"
   ]
  },
  {
   "cell_type": "code",
   "execution_count": 72,
   "metadata": {},
   "outputs": [],
   "source": [
    "embed = Isomap(n_components=3)\n",
    "feature_transformed = embed.fit_transform(feature_samples)"
   ]
  },
  {
   "cell_type": "code",
   "execution_count": 73,
   "metadata": {},
   "outputs": [
    {
     "data": {
      "text/html": [
       "<div>\n",
       "<style scoped>\n",
       "    .dataframe tbody tr th:only-of-type {\n",
       "        vertical-align: middle;\n",
       "    }\n",
       "\n",
       "    .dataframe tbody tr th {\n",
       "        vertical-align: top;\n",
       "    }\n",
       "\n",
       "    .dataframe thead th {\n",
       "        text-align: right;\n",
       "    }\n",
       "</style>\n",
       "<table border=\"1\" class=\"dataframe\">\n",
       "  <thead>\n",
       "    <tr style=\"text-align: right;\">\n",
       "      <th></th>\n",
       "      <th>X</th>\n",
       "      <th>Y</th>\n",
       "      <th>Z</th>\n",
       "    </tr>\n",
       "  </thead>\n",
       "  <tbody>\n",
       "    <tr>\n",
       "      <th>0</th>\n",
       "      <td>-0.893213</td>\n",
       "      <td>-0.380788</td>\n",
       "      <td>0.316416</td>\n",
       "    </tr>\n",
       "    <tr>\n",
       "      <th>1</th>\n",
       "      <td>-0.570026</td>\n",
       "      <td>-0.641347</td>\n",
       "      <td>-0.098455</td>\n",
       "    </tr>\n",
       "    <tr>\n",
       "      <th>2</th>\n",
       "      <td>-0.767859</td>\n",
       "      <td>0.715090</td>\n",
       "      <td>0.237678</td>\n",
       "    </tr>\n",
       "    <tr>\n",
       "      <th>3</th>\n",
       "      <td>-0.009206</td>\n",
       "      <td>-0.475109</td>\n",
       "      <td>-0.610765</td>\n",
       "    </tr>\n",
       "    <tr>\n",
       "      <th>4</th>\n",
       "      <td>0.942085</td>\n",
       "      <td>-0.029119</td>\n",
       "      <td>-0.132622</td>\n",
       "    </tr>\n",
       "  </tbody>\n",
       "</table>\n",
       "</div>"
      ],
      "text/plain": [
       "          X         Y         Z\n",
       "0 -0.893213 -0.380788  0.316416\n",
       "1 -0.570026 -0.641347 -0.098455\n",
       "2 -0.767859  0.715090  0.237678\n",
       "3 -0.009206 -0.475109 -0.610765\n",
       "4  0.942085 -0.029119 -0.132622"
      ]
     },
     "execution_count": 73,
     "metadata": {},
     "output_type": "execute_result"
    }
   ],
   "source": [
    "df = pd.DataFrame(feature_transformed, columns=['X', 'Y', 'Z'])\n",
    "df_isomap = df\n",
    "df.head()"
   ]
  },
  {
   "cell_type": "markdown",
   "metadata": {},
   "source": [
    "PCA"
   ]
  },
  {
   "cell_type": "code",
   "execution_count": 74,
   "metadata": {},
   "outputs": [],
   "source": [
    "pca = PCA(n_components=3)\n",
    "linear_embeddings = pca.fit_transform(feature_samples)"
   ]
  },
  {
   "cell_type": "code",
   "execution_count": 75,
   "metadata": {},
   "outputs": [
    {
     "data": {
      "text/html": [
       "<div>\n",
       "<style scoped>\n",
       "    .dataframe tbody tr th:only-of-type {\n",
       "        vertical-align: middle;\n",
       "    }\n",
       "\n",
       "    .dataframe tbody tr th {\n",
       "        vertical-align: top;\n",
       "    }\n",
       "\n",
       "    .dataframe thead th {\n",
       "        text-align: right;\n",
       "    }\n",
       "</style>\n",
       "<table border=\"1\" class=\"dataframe\">\n",
       "  <thead>\n",
       "    <tr style=\"text-align: right;\">\n",
       "      <th></th>\n",
       "      <th>X</th>\n",
       "      <th>Y</th>\n",
       "      <th>Z</th>\n",
       "    </tr>\n",
       "  </thead>\n",
       "  <tbody>\n",
       "    <tr>\n",
       "      <th>0</th>\n",
       "      <td>-0.432144</td>\n",
       "      <td>0.281812</td>\n",
       "      <td>0.327250</td>\n",
       "    </tr>\n",
       "    <tr>\n",
       "      <th>1</th>\n",
       "      <td>-0.251986</td>\n",
       "      <td>0.322981</td>\n",
       "      <td>-0.136860</td>\n",
       "    </tr>\n",
       "    <tr>\n",
       "      <th>2</th>\n",
       "      <td>-0.369145</td>\n",
       "      <td>-0.349984</td>\n",
       "      <td>0.266465</td>\n",
       "    </tr>\n",
       "    <tr>\n",
       "      <th>3</th>\n",
       "      <td>-0.074424</td>\n",
       "      <td>0.089649</td>\n",
       "      <td>-0.256440</td>\n",
       "    </tr>\n",
       "    <tr>\n",
       "      <th>4</th>\n",
       "      <td>0.442595</td>\n",
       "      <td>0.021562</td>\n",
       "      <td>0.045603</td>\n",
       "    </tr>\n",
       "  </tbody>\n",
       "</table>\n",
       "</div>"
      ],
      "text/plain": [
       "          X         Y         Z\n",
       "0 -0.432144  0.281812  0.327250\n",
       "1 -0.251986  0.322981 -0.136860\n",
       "2 -0.369145 -0.349984  0.266465\n",
       "3 -0.074424  0.089649 -0.256440\n",
       "4  0.442595  0.021562  0.045603"
      ]
     },
     "execution_count": 75,
     "metadata": {},
     "output_type": "execute_result"
    }
   ],
   "source": [
    "df = pd.DataFrame(linear_embeddings, columns=['X', 'Y', 'Z'])\n",
    "df_pca = df\n",
    "df.head()"
   ]
  },
  {
   "cell_type": "markdown",
   "metadata": {},
   "source": [
    "Choosing the song for which we are going to see the recommendations"
   ]
  },
  {
   "cell_type": "code",
   "execution_count": 76,
   "metadata": {},
   "outputs": [
    {
     "name": "stdout",
     "output_type": "stream",
     "text": [
      "8482\n",
      "4691\n"
     ]
    }
   ],
   "source": [
    "sample_id = songs_temp[songs_temp.song_id == '4e5lEqydMatcEio6ef9Dpf'].index.tolist()[0]\n",
    "print(sample_id)\n",
    "sample_id = np.where(sample_ids == sample_id)[0][0]\n",
    "print(sample_id)"
   ]
  },
  {
   "cell_type": "markdown",
   "metadata": {},
   "source": [
    "Cosine Similarity Algorithm"
   ]
  },
  {
   "cell_type": "code",
   "execution_count": 77,
   "metadata": {},
   "outputs": [],
   "source": [
    "def cosine_dist(u, v):\n",
    "    u_l2 = np.sqrt(np.dot(np.transpose(u), u))\n",
    "    v_l2 = np.sqrt(np.dot(np.transpose(v), v))\n",
    "    \n",
    "    numerator = np.dot(np.transpose(u), v)\n",
    "    dist = np.arccos((numerator)/(u_l2*v_l2))/np.pi\n",
    "    return dist"
   ]
  },
  {
   "cell_type": "markdown",
   "metadata": {},
   "source": [
    "Euclidean Distance Algorithm"
   ]
  },
  {
   "cell_type": "code",
   "execution_count": 78,
   "metadata": {},
   "outputs": [],
   "source": [
    "def euclidean_dist(u, v):\n",
    "    a = np.subtract(u, v)\n",
    "    dist = np.dot(np.transpose(a), a)\n",
    "    return dist"
   ]
  },
  {
   "cell_type": "markdown",
   "metadata": {},
   "source": [
    "Calculating Distance between the features"
   ]
  },
  {
   "cell_type": "code",
   "execution_count": 79,
   "metadata": {},
   "outputs": [],
   "source": [
    "def dist_2songs(feature1, feature2, metric=\"cosine\"):\n",
    "    print(metric)\n",
    "    dist = -1;\n",
    "    if(metric == \"cosine\"):\n",
    "        dist = cosine_dist(feature1, feature2)\n",
    "    elif(metric == \"euclidean\"):\n",
    "        a = np.subtract(feature1, feature2)\n",
    "        dist = np.dot(np.transpose(a), a)\n",
    "        \n",
    "    return dist"
   ]
  },
  {
   "cell_type": "markdown",
   "metadata": {},
   "source": [
    "### Cosine Distance based Recommendations"
   ]
  },
  {
   "cell_type": "code",
   "execution_count": 80,
   "metadata": {},
   "outputs": [
    {
     "name": "stdout",
     "output_type": "stream",
     "text": [
      "5000\n",
      "['Go Hard, Go Home (feat. Giz, Swellz & Choppa)', 'Desert Rose', 'Under the Graveyard', 'Soliá', 'Ameno', 'Let Love In', 'Forget It (feat. Oliver Tree)', 'Some Hearts', 'Innocent', 'Against All Odds (Take a Look At Me Now) - Remastered', 'Thought About You', 'Descending', 'Exodus', 'Scandal Of Grace', 'Ahora Me Llama - Remix']\n"
     ]
    }
   ],
   "source": [
    "distances = []\n",
    "for i in feature_samples:\n",
    "    distances.append(cosine_dist(feature_samples[sample_id], i))\n",
    "    \n",
    "print(len(distances))\n",
    "cosine_recoms = np.argsort(np.array(distances))[1:16]\n",
    "cosine_recoms = sample_ids[cosine_recoms]\n",
    "cosine_rec_name = songs_temp.name[cosine_recoms].tolist()\n",
    "cosine_rec_ids = songs_temp.song_id[cosine_recoms].tolist()\n",
    "\n",
    "print(cosine_rec_name)"
   ]
  },
  {
   "cell_type": "markdown",
   "metadata": {},
   "source": [
    "### Euclidean Distance based Recommendations"
   ]
  },
  {
   "cell_type": "code",
   "execution_count": 81,
   "metadata": {},
   "outputs": [
    {
     "name": "stdout",
     "output_type": "stream",
     "text": [
      "5000\n",
      "['Go Hard, Go Home (feat. Giz, Swellz & Choppa)', 'Under the Graveyard', 'Soliá', 'Let Love In', 'Some Hearts', 'Desert Rose', 'Innocent', 'Thought About You', 'Forget It (feat. Oliver Tree)', 'Descending', 'Exodus', \"C'Mon\", 'Ahora Me Llama - Remix', 'I Tried Loving', 'By the Way']\n"
     ]
    }
   ],
   "source": [
    "distances = []\n",
    "for i in feature_samples:\n",
    "    distances.append(euclidean_dist(feature_samples[sample_id], i))\n",
    "    \n",
    "print(len(distances))\n",
    "euc_recoms = np.argsort(np.array(distances))[1:16]\n",
    "euc_recoms = sample_ids[euc_recoms]\n",
    "euc_rec_name = songs_temp.name[euc_recoms].tolist()\n",
    "euc_rec_ids = songs_temp.song_id[euc_recoms].tolist()\n",
    "\n",
    "print(euc_rec_name)"
   ]
  },
  {
   "cell_type": "markdown",
   "metadata": {},
   "source": [
    "### PCA - Euclidean Based Recommendations"
   ]
  },
  {
   "cell_type": "code",
   "execution_count": 82,
   "metadata": {},
   "outputs": [
    {
     "name": "stdout",
     "output_type": "stream",
     "text": [
      "5000\n",
      "['Well Done', 'Go Hard, Go Home (feat. Giz, Swellz & Choppa)', 'Forget It (feat. Oliver Tree)', 'Justify My Love', 'God of Revival - Live', 'Almeda', 'Everything Is You', 'ROCKSTAR 101', 'No One', 'That Good', 'Agnes', 'Cinnamon Girl', 'Desert Rose', 'Pennyroyal Tea', 'Catchafire (Whoopsi-Daisy)']\n"
     ]
    }
   ],
   "source": [
    "distances = []\n",
    "for i in df_pca.values:\n",
    "    distances.append(euclidean_dist(df_pca.values[sample_id], i))\n",
    "    \n",
    "print(len(distances))\n",
    "pca_recoms = np.argsort(np.array(distances))[1:16]\n",
    "pca_recoms = sample_ids[pca_recoms]\n",
    "pca_rec_name = songs_temp.name[pca_recoms].tolist()\n",
    "pca_rec_ids = songs_temp.song_id[pca_recoms].tolist()\n",
    "\n",
    "print(pca_rec_name)    "
   ]
  },
  {
   "cell_type": "markdown",
   "metadata": {},
   "source": [
    "### ISOMAP - Euclidean Based Recommendations"
   ]
  },
  {
   "cell_type": "code",
   "execution_count": 35,
   "metadata": {},
   "outputs": [
    {
     "name": "stdout",
     "output_type": "stream",
     "text": [
      "5000\n",
      "['Lose Yourself - From \"8 Mile\" Soundtrack', \"I'm A Believer\", 'What The Hell Did I Say', 'Under the Graveyard', 'Lemon - Edit', 'Stand In The Rain', 'Empty Gold', 'Drifting, Falling', \"C'Mon\", 'Soliá', 'Let It Die', 'Some Hearts', 'Trick Of The Light', 'More Than This', 'Never Surrender']\n"
     ]
    }
   ],
   "source": [
    "distances = []\n",
    "for i in df_isomap.values:\n",
    "    distances.append(euclidean_dist(df_isomap.values[sample_id], i))\n",
    "    \n",
    "print(len(distances))\n",
    "iso_recoms = np.argsort(np.array(distances))[1:16]\n",
    "iso_recoms = sample_ids[iso_recoms]\n",
    "iso_rec_name = songs_temp.name[iso_recoms].tolist()\n",
    "iso_rec_ids = songs_temp.song_id[iso_recoms].tolist()\n",
    "\n",
    "print(iso_rec_name)"
   ]
  },
  {
   "cell_type": "markdown",
   "metadata": {},
   "source": [
    "#### Final recommendations "
   ]
  },
  {
   "cell_type": "code",
   "execution_count": 36,
   "metadata": {},
   "outputs": [
    {
     "data": {
      "text/html": [
       "<div>\n",
       "<style scoped>\n",
       "    .dataframe tbody tr th:only-of-type {\n",
       "        vertical-align: middle;\n",
       "    }\n",
       "\n",
       "    .dataframe tbody tr th {\n",
       "        vertical-align: top;\n",
       "    }\n",
       "\n",
       "    .dataframe thead th {\n",
       "        text-align: right;\n",
       "    }\n",
       "</style>\n",
       "<table border=\"1\" class=\"dataframe\">\n",
       "  <thead>\n",
       "    <tr style=\"text-align: right;\">\n",
       "      <th></th>\n",
       "      <th>cosine</th>\n",
       "      <th>euclidean</th>\n",
       "      <th>pca</th>\n",
       "      <th>isomap</th>\n",
       "    </tr>\n",
       "  </thead>\n",
       "  <tbody>\n",
       "    <tr>\n",
       "      <th>0</th>\n",
       "      <td>Go Hard, Go Home (feat. Giz, Swellz &amp; Choppa)</td>\n",
       "      <td>Go Hard, Go Home (feat. Giz, Swellz &amp; Choppa)</td>\n",
       "      <td>Well Done</td>\n",
       "      <td>Lose Yourself - From \"8 Mile\" Soundtrack</td>\n",
       "    </tr>\n",
       "    <tr>\n",
       "      <th>1</th>\n",
       "      <td>Desert Rose</td>\n",
       "      <td>Under the Graveyard</td>\n",
       "      <td>Go Hard, Go Home (feat. Giz, Swellz &amp; Choppa)</td>\n",
       "      <td>I'm A Believer</td>\n",
       "    </tr>\n",
       "    <tr>\n",
       "      <th>2</th>\n",
       "      <td>Under the Graveyard</td>\n",
       "      <td>Soliá</td>\n",
       "      <td>Forget It (feat. Oliver Tree)</td>\n",
       "      <td>What The Hell Did I Say</td>\n",
       "    </tr>\n",
       "    <tr>\n",
       "      <th>3</th>\n",
       "      <td>Soliá</td>\n",
       "      <td>Let Love In</td>\n",
       "      <td>Justify My Love</td>\n",
       "      <td>Under the Graveyard</td>\n",
       "    </tr>\n",
       "    <tr>\n",
       "      <th>4</th>\n",
       "      <td>Ameno</td>\n",
       "      <td>Some Hearts</td>\n",
       "      <td>God of Revival - Live</td>\n",
       "      <td>Lemon - Edit</td>\n",
       "    </tr>\n",
       "    <tr>\n",
       "      <th>5</th>\n",
       "      <td>Let Love In</td>\n",
       "      <td>Desert Rose</td>\n",
       "      <td>Almeda</td>\n",
       "      <td>Stand In The Rain</td>\n",
       "    </tr>\n",
       "    <tr>\n",
       "      <th>6</th>\n",
       "      <td>Forget It (feat. Oliver Tree)</td>\n",
       "      <td>Innocent</td>\n",
       "      <td>Everything Is You</td>\n",
       "      <td>Empty Gold</td>\n",
       "    </tr>\n",
       "    <tr>\n",
       "      <th>7</th>\n",
       "      <td>Some Hearts</td>\n",
       "      <td>Thought About You</td>\n",
       "      <td>ROCKSTAR 101</td>\n",
       "      <td>Drifting, Falling</td>\n",
       "    </tr>\n",
       "    <tr>\n",
       "      <th>8</th>\n",
       "      <td>Innocent</td>\n",
       "      <td>Forget It (feat. Oliver Tree)</td>\n",
       "      <td>No One</td>\n",
       "      <td>C'Mon</td>\n",
       "    </tr>\n",
       "    <tr>\n",
       "      <th>9</th>\n",
       "      <td>Against All Odds (Take a Look At Me Now) - Rem...</td>\n",
       "      <td>Descending</td>\n",
       "      <td>That Good</td>\n",
       "      <td>Soliá</td>\n",
       "    </tr>\n",
       "    <tr>\n",
       "      <th>10</th>\n",
       "      <td>Thought About You</td>\n",
       "      <td>Exodus</td>\n",
       "      <td>Agnes</td>\n",
       "      <td>Let It Die</td>\n",
       "    </tr>\n",
       "    <tr>\n",
       "      <th>11</th>\n",
       "      <td>Descending</td>\n",
       "      <td>C'Mon</td>\n",
       "      <td>Cinnamon Girl</td>\n",
       "      <td>Some Hearts</td>\n",
       "    </tr>\n",
       "    <tr>\n",
       "      <th>12</th>\n",
       "      <td>Exodus</td>\n",
       "      <td>Ahora Me Llama - Remix</td>\n",
       "      <td>Desert Rose</td>\n",
       "      <td>Trick Of The Light</td>\n",
       "    </tr>\n",
       "    <tr>\n",
       "      <th>13</th>\n",
       "      <td>Scandal Of Grace</td>\n",
       "      <td>I Tried Loving</td>\n",
       "      <td>Pennyroyal Tea</td>\n",
       "      <td>More Than This</td>\n",
       "    </tr>\n",
       "    <tr>\n",
       "      <th>14</th>\n",
       "      <td>Ahora Me Llama - Remix</td>\n",
       "      <td>By the Way</td>\n",
       "      <td>Catchafire (Whoopsi-Daisy)</td>\n",
       "      <td>Never Surrender</td>\n",
       "    </tr>\n",
       "  </tbody>\n",
       "</table>\n",
       "</div>"
      ],
      "text/plain": [
       "                                               cosine  \\\n",
       "0       Go Hard, Go Home (feat. Giz, Swellz & Choppa)   \n",
       "1                                         Desert Rose   \n",
       "2                                 Under the Graveyard   \n",
       "3                                               Soliá   \n",
       "4                                               Ameno   \n",
       "5                                         Let Love In   \n",
       "6                       Forget It (feat. Oliver Tree)   \n",
       "7                                         Some Hearts   \n",
       "8                                            Innocent   \n",
       "9   Against All Odds (Take a Look At Me Now) - Rem...   \n",
       "10                                  Thought About You   \n",
       "11                                         Descending   \n",
       "12                                             Exodus   \n",
       "13                                   Scandal Of Grace   \n",
       "14                             Ahora Me Llama - Remix   \n",
       "\n",
       "                                        euclidean  \\\n",
       "0   Go Hard, Go Home (feat. Giz, Swellz & Choppa)   \n",
       "1                             Under the Graveyard   \n",
       "2                                           Soliá   \n",
       "3                                     Let Love In   \n",
       "4                                     Some Hearts   \n",
       "5                                     Desert Rose   \n",
       "6                                        Innocent   \n",
       "7                               Thought About You   \n",
       "8                   Forget It (feat. Oliver Tree)   \n",
       "9                                      Descending   \n",
       "10                                         Exodus   \n",
       "11                                          C'Mon   \n",
       "12                         Ahora Me Llama - Remix   \n",
       "13                                 I Tried Loving   \n",
       "14                                     By the Way   \n",
       "\n",
       "                                              pca  \\\n",
       "0                                       Well Done   \n",
       "1   Go Hard, Go Home (feat. Giz, Swellz & Choppa)   \n",
       "2                   Forget It (feat. Oliver Tree)   \n",
       "3                                 Justify My Love   \n",
       "4                           God of Revival - Live   \n",
       "5                                          Almeda   \n",
       "6                               Everything Is You   \n",
       "7                                    ROCKSTAR 101   \n",
       "8                                          No One   \n",
       "9                                       That Good   \n",
       "10                                          Agnes   \n",
       "11                                  Cinnamon Girl   \n",
       "12                                    Desert Rose   \n",
       "13                                 Pennyroyal Tea   \n",
       "14                     Catchafire (Whoopsi-Daisy)   \n",
       "\n",
       "                                      isomap  \n",
       "0   Lose Yourself - From \"8 Mile\" Soundtrack  \n",
       "1                             I'm A Believer  \n",
       "2                    What The Hell Did I Say  \n",
       "3                        Under the Graveyard  \n",
       "4                               Lemon - Edit  \n",
       "5                          Stand In The Rain  \n",
       "6                                 Empty Gold  \n",
       "7                          Drifting, Falling  \n",
       "8                                      C'Mon  \n",
       "9                                      Soliá  \n",
       "10                                Let It Die  \n",
       "11                               Some Hearts  \n",
       "12                        Trick Of The Light  \n",
       "13                            More Than This  \n",
       "14                           Never Surrender  "
      ]
     },
     "execution_count": 36,
     "metadata": {},
     "output_type": "execute_result"
    }
   ],
   "source": [
    "df = pd.DataFrame({'cosine':cosine_rec_name, 'euclidean': euc_rec_name, 'pca': pca_rec_name, 'isomap': iso_rec_name})\n",
    "df"
   ]
  }
 ],
 "metadata": {
  "kernelspec": {
   "display_name": "Python 3",
   "language": "python",
   "name": "python3"
  }
 },
 "nbformat": 4,
 "nbformat_minor": 4
}
